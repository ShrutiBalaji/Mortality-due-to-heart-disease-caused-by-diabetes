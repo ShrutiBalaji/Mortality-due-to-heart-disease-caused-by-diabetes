{
 "cells": [
  {
   "cell_type": "code",
   "execution_count": 1,
   "id": "8c90f223",
   "metadata": {},
   "outputs": [
    {
     "name": "stdout",
     "output_type": "stream",
     "text": [
      "(3142, 6)\n",
      "(3142, 6)\n",
      "(3141, 6)\n",
      "(3141, 6)\n",
      "   Year  County_FIPS           County     State  Obesity Percentage  \\\n",
      "0  2018        56039     Teton County   Wyoming                10.5   \n",
      "1  2018         8013   Boulder County  Colorado                13.6   \n",
      "2  2018         8107     Routt County  Colorado                13.7   \n",
      "3  2018         8051  Gunnison County  Colorado                13.8   \n",
      "4  2018         8097    Pitkin County  Colorado                14.2   \n",
      "\n",
      "  Access to Exercise Opportunities  \n",
      "0                       96.4966657  \n",
      "1                       94.1639763  \n",
      "2                       75.0861372  \n",
      "3                       82.2435395  \n",
      "4                       92.5355727  \n"
     ]
    }
   ],
   "source": [
    "#Final equation of the model\n",
    "import pandas as pd\n",
    "import numpy as np\n",
    "import matplotlib.pyplot as plt\n",
    "from sklearn.model_selection import train_test_split\n",
    "from scipy import stats\n",
    "from sklearn.linear_model import LinearRegression\n",
    "from sklearn.metrics import r2_score\n",
    "\n",
    "def readfiles(path):\n",
    "    dataset = pd.read_csv(path, on_bad_lines='skip')\n",
    "    return dataset\n",
    "    \n",
    "phy_env=readfiles(\"Phy_env.csv\")\n",
    "food_access=readfiles(\"Food_access.csv\")\n",
    "transport=readfiles(\"transport.csv\")\n",
    "economics=readfiles(\"Economics2018.csv\")\n",
    "\n",
    "print(phy_env.shape)\n",
    "print(food_access.shape)\n",
    "print(transport.shape)\n",
    "print(economics.shape)\n",
    "\n",
    "print(phy_env.head())"
   ]
  },
  {
   "cell_type": "code",
   "execution_count": 2,
   "id": "97753d5d",
   "metadata": {},
   "outputs": [],
   "source": [
    "data=pd.read_csv(\"/Users/shrutibalaji/Downloads/exercise.csv\", on_bad_lines='skip')"
   ]
  },
  {
   "cell_type": "code",
   "execution_count": 3,
   "id": "5f8c04dc",
   "metadata": {},
   "outputs": [
    {
     "name": "stdout",
     "output_type": "stream",
     "text": [
      "{15005}\n",
      "{2013}\n"
     ]
    }
   ],
   "source": [
    "additional_ids = set(phy_env['County_FIPS']) - set(economics['County_FIPS'])\n",
    "len(set(phy_env['County_FIPS']))\n",
    "additional_ids\n",
    "\n",
    "add_id=set(food_access['County_FIPS']) - set(transport['County_FIPS'])\n",
    "print(additional_ids)\n",
    "print(add_id)"
   ]
  },
  {
   "cell_type": "code",
   "execution_count": 4,
   "id": "10e9b75f",
   "metadata": {},
   "outputs": [],
   "source": [
    "#dataset collection\n",
    "dataset=pd.concat([economics.iloc[:,1], economics.iloc[:,5], phy_env.iloc[:,5],food_access.iloc[:,5],transport.iloc[:,5],phy_env.iloc[:,4],food_access.iloc[:,4]], axis=1)\n",
    "dataset.head()\n",
    "dataset.dropna(inplace=True)\n",
    "#dataset.shape"
   ]
  },
  {
   "cell_type": "code",
   "execution_count": 5,
   "id": "081bbdb8",
   "metadata": {},
   "outputs": [
    {
     "data": {
      "text/html": [
       "<div>\n",
       "<style scoped>\n",
       "    .dataframe tbody tr th:only-of-type {\n",
       "        vertical-align: middle;\n",
       "    }\n",
       "\n",
       "    .dataframe tbody tr th {\n",
       "        vertical-align: top;\n",
       "    }\n",
       "\n",
       "    .dataframe thead th {\n",
       "        text-align: right;\n",
       "    }\n",
       "</style>\n",
       "<table border=\"1\" class=\"dataframe\">\n",
       "  <thead>\n",
       "    <tr style=\"text-align: right;\">\n",
       "      <th></th>\n",
       "      <th>County_FIPS</th>\n",
       "      <th>Children in Poverty</th>\n",
       "      <th>Access to Exercise Opportunities</th>\n",
       "      <th>Limited Access To Healthy Foods</th>\n",
       "      <th>Commute</th>\n",
       "      <th>Obesity Percentage</th>\n",
       "      <th>Physical Inactivity Percentage</th>\n",
       "    </tr>\n",
       "  </thead>\n",
       "  <tbody>\n",
       "    <tr>\n",
       "      <th>0</th>\n",
       "      <td>56039.0</td>\n",
       "      <td>4.3</td>\n",
       "      <td>96.4966657</td>\n",
       "      <td>1.95009374</td>\n",
       "      <td>7.7</td>\n",
       "      <td>10.5</td>\n",
       "      <td>8.8</td>\n",
       "    </tr>\n",
       "    <tr>\n",
       "      <th>1</th>\n",
       "      <td>8013.0</td>\n",
       "      <td>6.3</td>\n",
       "      <td>94.1639763</td>\n",
       "      <td>2.60405089</td>\n",
       "      <td>5.9</td>\n",
       "      <td>13.6</td>\n",
       "      <td>9.4</td>\n",
       "    </tr>\n",
       "    <tr>\n",
       "      <th>2</th>\n",
       "      <td>8107.0</td>\n",
       "      <td>6.2</td>\n",
       "      <td>75.0861372</td>\n",
       "      <td>5.03830857</td>\n",
       "      <td>1.5</td>\n",
       "      <td>13.7</td>\n",
       "      <td>9.8</td>\n",
       "    </tr>\n",
       "    <tr>\n",
       "      <th>3</th>\n",
       "      <td>8051.0</td>\n",
       "      <td>8.8</td>\n",
       "      <td>82.2435395</td>\n",
       "      <td>3.8117524</td>\n",
       "      <td>1.1</td>\n",
       "      <td>13.8</td>\n",
       "      <td>10.7</td>\n",
       "    </tr>\n",
       "    <tr>\n",
       "      <th>4</th>\n",
       "      <td>8097.0</td>\n",
       "      <td>5.2</td>\n",
       "      <td>92.5355727</td>\n",
       "      <td>2.46107164</td>\n",
       "      <td>4.2</td>\n",
       "      <td>14.2</td>\n",
       "      <td>11.0</td>\n",
       "    </tr>\n",
       "    <tr>\n",
       "      <th>...</th>\n",
       "      <td>...</td>\n",
       "      <td>...</td>\n",
       "      <td>...</td>\n",
       "      <td>...</td>\n",
       "      <td>...</td>\n",
       "      <td>...</td>\n",
       "      <td>...</td>\n",
       "    </tr>\n",
       "    <tr>\n",
       "      <th>3136</th>\n",
       "      <td>46137.0</td>\n",
       "      <td>52.8</td>\n",
       "      <td>17.2563667</td>\n",
       "      <td>2.69394618</td>\n",
       "      <td>4.5</td>\n",
       "      <td>41.5</td>\n",
       "      <td>36.1</td>\n",
       "    </tr>\n",
       "    <tr>\n",
       "      <th>3137</th>\n",
       "      <td>38079.0</td>\n",
       "      <td>26.7</td>\n",
       "      <td>53.6237058</td>\n",
       "      <td>9.05347171</td>\n",
       "      <td>12.9</td>\n",
       "      <td>41.5</td>\n",
       "      <td>36.3</td>\n",
       "    </tr>\n",
       "    <tr>\n",
       "      <th>3138</th>\n",
       "      <td>45089.0</td>\n",
       "      <td>34.5</td>\n",
       "      <td>42.7208151</td>\n",
       "      <td>3.00589092</td>\n",
       "      <td>14.6</td>\n",
       "      <td>41.6</td>\n",
       "      <td>37.0</td>\n",
       "    </tr>\n",
       "    <tr>\n",
       "      <th>3139</th>\n",
       "      <td>31025.0</td>\n",
       "      <td>6.8</td>\n",
       "      <td>37.129245</td>\n",
       "      <td>20.4800709</td>\n",
       "      <td>6.6</td>\n",
       "      <td>43.0</td>\n",
       "      <td>38.3</td>\n",
       "    </tr>\n",
       "    <tr>\n",
       "      <th>3140</th>\n",
       "      <td>31173.0</td>\n",
       "      <td>25.0</td>\n",
       "      <td>60.7028248</td>\n",
       "      <td>5.39677307</td>\n",
       "      <td>14.6</td>\n",
       "      <td>43.1</td>\n",
       "      <td>38.8</td>\n",
       "    </tr>\n",
       "  </tbody>\n",
       "</table>\n",
       "<p>3141 rows × 7 columns</p>\n",
       "</div>"
      ],
      "text/plain": [
       "      County_FIPS  Children in Poverty Access to Exercise Opportunities  \\\n",
       "0         56039.0                  4.3                       96.4966657   \n",
       "1          8013.0                  6.3                       94.1639763   \n",
       "2          8107.0                  6.2                       75.0861372   \n",
       "3          8051.0                  8.8                       82.2435395   \n",
       "4          8097.0                  5.2                       92.5355727   \n",
       "...           ...                  ...                              ...   \n",
       "3136      46137.0                 52.8                       17.2563667   \n",
       "3137      38079.0                 26.7                       53.6237058   \n",
       "3138      45089.0                 34.5                       42.7208151   \n",
       "3139      31025.0                  6.8                        37.129245   \n",
       "3140      31173.0                 25.0                       60.7028248   \n",
       "\n",
       "     Limited Access To Healthy Foods Commute  Obesity Percentage  \\\n",
       "0                         1.95009374     7.7                10.5   \n",
       "1                         2.60405089     5.9                13.6   \n",
       "2                         5.03830857     1.5                13.7   \n",
       "3                          3.8117524     1.1                13.8   \n",
       "4                         2.46107164     4.2                14.2   \n",
       "...                              ...     ...                 ...   \n",
       "3136                      2.69394618     4.5                41.5   \n",
       "3137                      9.05347171    12.9                41.5   \n",
       "3138                      3.00589092    14.6                41.6   \n",
       "3139                      20.4800709     6.6                43.0   \n",
       "3140                      5.39677307    14.6                43.1   \n",
       "\n",
       "      Physical Inactivity Percentage  \n",
       "0                                8.8  \n",
       "1                                9.4  \n",
       "2                                9.8  \n",
       "3                               10.7  \n",
       "4                               11.0  \n",
       "...                              ...  \n",
       "3136                            36.1  \n",
       "3137                            36.3  \n",
       "3138                            37.0  \n",
       "3139                            38.3  \n",
       "3140                            38.8  \n",
       "\n",
       "[3141 rows x 7 columns]"
      ]
     },
     "execution_count": 5,
     "metadata": {},
     "output_type": "execute_result"
    }
   ],
   "source": [
    "dataset"
   ]
  },
  {
   "cell_type": "code",
   "execution_count": 6,
   "id": "161f4a9a",
   "metadata": {},
   "outputs": [
    {
     "data": {
      "text/plain": [
       "(3141, 7)"
      ]
     },
     "execution_count": 6,
     "metadata": {},
     "output_type": "execute_result"
    }
   ],
   "source": [
    "dataset.shape"
   ]
  },
  {
   "cell_type": "code",
   "execution_count": 7,
   "id": "f5e2942c",
   "metadata": {},
   "outputs": [],
   "source": [
    "dataset = dataset[~dataset['County_FIPS'].isin(additional_ids)]\n",
    "dataset = dataset[~(dataset['Children in Poverty'] != 'No Data') | (dataset['Access to Exercise Opportunities'] != 'No Data')]\n",
    "dataset = dataset[~(dataset['Limited Access To Healthy Foods'] != 'No Data') | (dataset['Commute'] != 'No Data')]\n",
    "dataset.replace(\"No data\", pd.NA, inplace=True)\n",
    "dataset.reset_index(drop=True, inplace=True)"
   ]
  },
  {
   "cell_type": "code",
   "execution_count": 8,
   "id": "8f49c795",
   "metadata": {},
   "outputs": [
    {
     "data": {
      "text/plain": [
       "(3058, 7)"
      ]
     },
     "execution_count": 8,
     "metadata": {},
     "output_type": "execute_result"
    }
   ],
   "source": [
    "dataset.shape"
   ]
  },
  {
   "cell_type": "code",
   "execution_count": 9,
   "id": "a1baaff7",
   "metadata": {},
   "outputs": [
    {
     "data": {
      "text/plain": [
       "(3058, 2)"
      ]
     },
     "execution_count": 9,
     "metadata": {},
     "output_type": "execute_result"
    }
   ],
   "source": [
    "X=dataset.iloc[:,1:3]\n",
    "x=X.to_numpy()\n",
    "X.shape"
   ]
  },
  {
   "cell_type": "code",
   "execution_count": 10,
   "id": "869d4c31",
   "metadata": {},
   "outputs": [
    {
     "name": "stdout",
     "output_type": "stream",
     "text": [
      "(3058,)\n",
      "(3058, 1)\n"
     ]
    }
   ],
   "source": [
    "Y=dataset.iloc[:,5]\n",
    "y=Y.to_numpy()\n",
    "print(y.shape)\n",
    "y = y.reshape(-1, 1)\n",
    "print(y.shape)"
   ]
  },
  {
   "cell_type": "code",
   "execution_count": 16,
   "id": "4e8c7ea7",
   "metadata": {},
   "outputs": [
    {
     "name": "stdout",
     "output_type": "stream",
     "text": [
      "[[27.91963202]\n",
      " [27.73246684]\n",
      " [28.13522562]\n",
      " ...\n",
      " [27.63994211]\n",
      " [27.54932722]\n",
      " [27.4767485 ]]\n",
      "R-squared: 0.0021473683753334694\n"
     ]
    }
   ],
   "source": [
    "x_train, x_test, y_train, y_test = train_test_split(x, y, test_size= 0.6, random_state=0)\n",
    "regressor = LinearRegression()\n",
    "regressor.fit(x_train,y_train)\n",
    "y_pred = regressor.predict(x_test)\n",
    "\n",
    "print(y_pred)\n",
    "r_squared = r2_score(y_test, y_pred)\n",
    "print(\"R-squared:\", r_squared)"
   ]
  },
  {
   "cell_type": "code",
   "execution_count": 18,
   "id": "40572a48",
   "metadata": {},
   "outputs": [
    {
     "name": "stdout",
     "output_type": "stream",
     "text": [
      "(3020, 7)\n",
      "(3020,)\n",
      "(3020, 1)\n",
      "[[20.31404389]]\n",
      "R-squared: -0.0007199790964174113\n"
     ]
    }
   ],
   "source": [
    "#model 2\n",
    "\n",
    "dataset = dataset[~(dataset['Limited Access To Healthy Foods'] != 'No Data') | (dataset['Commute'] != 'No Data')]\n",
    "dataset.replace('No Data', pd.NA, inplace=True)\n",
    "dataset.dropna(inplace=True)\n",
    "dataset.reset_index(drop=True, inplace=True)\n",
    "print(dataset.shape)\n",
    "\n",
    "X=dataset.iloc[:,3:5]\n",
    "x=X.to_numpy()\n",
    "X.shape\n",
    "\n",
    "Y=dataset.iloc[:,6]\n",
    "y=Y.to_numpy()\n",
    "print(y.shape)\n",
    "y = y.reshape(-1, 1)\n",
    "print(y.shape)\n",
    "\n",
    "x_train, x_test, y_train, y_test = train_test_split(x, y, test_size= 0.6, random_state=0)\n",
    "regressor = LinearRegression()\n",
    "regressor.fit(x_train,y_train)\n",
    "y_pred = regressor.predict(x_test)\n",
    "\n",
    "print(regressor.predict([[60,20]]))\n",
    "r_squared = r2_score(y_test, y_pred)\n",
    "print(\"R-squared:\", r_squared)"
   ]
  },
  {
   "cell_type": "code",
   "execution_count": null,
   "id": "f6e787d7",
   "metadata": {},
   "outputs": [],
   "source": [
    "#dataset[2000:2050]"
   ]
  },
  {
   "cell_type": "code",
   "execution_count": null,
   "id": "336b9e6d",
   "metadata": {},
   "outputs": [],
   "source": []
  }
 ],
 "metadata": {
  "kernelspec": {
   "display_name": "Python 3 (ipykernel)",
   "language": "python",
   "name": "python3"
  },
  "language_info": {
   "codemirror_mode": {
    "name": "ipython",
    "version": 3
   },
   "file_extension": ".py",
   "mimetype": "text/x-python",
   "name": "python",
   "nbconvert_exporter": "python",
   "pygments_lexer": "ipython3",
   "version": "3.11.4"
  }
 },
 "nbformat": 4,
 "nbformat_minor": 5
}
